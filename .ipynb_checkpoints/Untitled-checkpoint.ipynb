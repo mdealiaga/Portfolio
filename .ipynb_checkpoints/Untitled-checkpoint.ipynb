{
 "cells": [
  {
   "cell_type": "markdown",
   "metadata": {},
   "source": [
    "# Data Science Projects I have worked on:\n",
    "\n",
    "\n",
    "## Machine Learning in Python:\n",
    "\n",
    "[Forecasting Cryptocurrency Price Using Twitter Sentiment Analysis](https://github.com/mdealiaga/DSI-Capstone/blob/master/Capstone-Part-4.ipynb)\n",
    "\n",
    "Web Scraping and Salary Prediction on Indeed.com\n",
    "https://nbviewer.jupyter.org/github/mdealiaga/Job-Salary-Webscraping-and-Prediction/blob/master/Web%20Scraping%20Job%20Data.ipynb\n",
    "\n",
    "\n",
    "## Machine Learning reports made while At London Business School (Using XLMiner)\n",
    "\n",
    "Predicting Next Month views for BBC: https://github.com/mdealiaga/Portfolio/blob/master/Data%20Mining%20LBS/Predicting%20Next%20Month%20views%20for%20BBC/Predicting%20Next%20Month%20views%20for%20BBC.pdf\n",
    "\n",
    "Estimating Lending Club Probability of Default:\n",
    "https://github.com/mdealiaga/Portfolio/blob/master/Data%20Mining%20LBS/Estimating%20Lending%20Club%20Probability%20of%20Default/Estimating%20Lending%20Club%20Probability%20of%20Default.pdf\n",
    "\n",
    "Predicting Risk of Cardiovascular Disease:\n",
    "https://github.com/mdealiaga/Portfolio/blob/master/Data%20Mining%20LBS/Predicting%20Risk%20of%20Cardiovascular%20Disease/Predicting%20Risk%20of%20Cardiovascular%20Disease.pdf\n",
    "\n",
    "## General Computer Science Work (C and Python):\n",
    "\n",
    "### Harvard's Introduction to Computer Science:\n",
    "\n",
    "Harvard's CS50 course, which I took on EDx, provided me an introduction to the intellectual enterprises of computer science and the art of programming.\n",
    "\n",
    "\n",
    "Topics include abstraction, algorithms, data structures, encapsulation, resource management, security, software engineering, and web development. Languages include C, Python, SQL, and JavaScript plus CSS and HTML.\n",
    "\n",
    "\n",
    "This Github Repository contains the projects I worked on. I only showcase the most notable project in each week, but more are available in respective folders. Additionally, the full course syllabus can be found here: https://docs.cs50.net/2017/x/syllabus.html\n",
    "\n",
    "#### Week 0: First Programming Assignment\n",
    "\n",
    "Archery Game using Scratch: https://scratch.mit.edu/projects/151832493/\n",
    "\n",
    "#### Week 1 - Introduction to C\n",
    "\n",
    "Mario Pyramid Builder: https://github.com/mdealiaga/CS50/blob/master/pset1/mario.c\n",
    "\n",
    "#### Week 2 - Arrays - Cryptography\n",
    "Message Encrypter using ASCII, modulo operator, and adapting to user input:\n",
    "https://github.com/mdealiaga/CS50/blob/master/pset2/vigenere.c\n",
    "\n",
    "#### Week 3 - Algorithms \n",
    "\n",
    "Built puzzle game which implements searching algorithms: https://github.com/mdealiaga/CS50/tree/master/pset3/fifteen\n",
    "\n",
    "#### Week 4 - Memory - Forensics\n",
    "\n",
    "Built a JPEG recovery script for faulty memory cards:\n",
    "https://github.com/mdealiaga/CS50/blob/master/pset4/recover/recover.c\n",
    "\n",
    "#### Week 5 - Data Structures\n",
    "Built a spell-checker using tries: https://github.com/mdealiaga/CS50/tree/master/pset5/speller\n",
    "\n",
    "#### Week 6 - HTTP\n",
    "Learned about IP, TCP, HTTP, as well as HTML and CSS (No assignments)\n",
    "\n",
    "#### Week 7 - Machine Learning\n",
    "Introduction to Machine learning (No assignemnts).\n",
    "\n",
    "#### Week 8 - Python Sentiment Analysis\n",
    "Built a Twitter Sentiment Analysis tool: https://github.com/mdealiaga/CS50/tree/master/pset6/sentiments\n",
    "\n",
    "#### Week 9 - SQL\n",
    "Built a mock stock-trading website using SQL, Python and Flask: https://github.com/mdealiaga/CS50/tree/master/pset7/finance"
   ]
  },
  {
   "cell_type": "code",
   "execution_count": null,
   "metadata": {
    "collapsed": true
   },
   "outputs": [],
   "source": []
  }
 ],
 "metadata": {
  "kernelspec": {
   "display_name": "Python 2",
   "language": "python",
   "name": "python2"
  },
  "language_info": {
   "codemirror_mode": {
    "name": "ipython",
    "version": 2
   },
   "file_extension": ".py",
   "mimetype": "text/x-python",
   "name": "python",
   "nbconvert_exporter": "python",
   "pygments_lexer": "ipython2",
   "version": "2.7.13"
  },
  "toc": {
   "nav_menu": {},
   "number_sections": true,
   "sideBar": true,
   "skip_h1_title": false,
   "toc_cell": false,
   "toc_position": {},
   "toc_section_display": "block",
   "toc_window_display": false
  }
 },
 "nbformat": 4,
 "nbformat_minor": 2
}
